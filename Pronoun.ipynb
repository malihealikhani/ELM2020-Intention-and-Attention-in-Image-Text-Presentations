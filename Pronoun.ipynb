{
 "cells": [
  {
   "cell_type": "code",
   "execution_count": 1,
   "metadata": {},
   "outputs": [],
   "source": [
    "import pandas as pd\n",
    "import numpy as np"
   ]
  },
  {
   "cell_type": "code",
   "execution_count": 2,
   "metadata": {},
   "outputs": [
    {
     "name": "stdout",
     "output_type": "stream",
     "text": [
      "(13858, 18) ['id_annotation', 'id_annotator', 'caption', 'url', 'True', 'Subjective', 'Action', 'Story', 'Meta', 'Irrelevant', 'Other', 'Comment', 'When', 'How', 'Where', 'Identification', 'source', 'cbBrokenImg']\n"
     ]
    }
   ],
   "source": [
    "original_df = pd.read_csv('output_0831.csv', sep='\\t')\n",
    "df_gt = pd.read_csv('data-ground-truth-11-28.tsv', sep='\\t')\n",
    "# preprocess\n",
    "original_df = original_df.drop_duplicates(subset=['id_annotator', 'caption', 'url'], keep='last')\n",
    "cols = {'cb0':'Meta', 'cb1':'True', 'cb2':'Action', \n",
    "        'cb3':'Subjective', 'cb4':'Story', 'cb5':'Irrelevant', \n",
    "        'cb6':'Other', 'cbWhen':'When', 'cbHow':'How', \n",
    "        'cbWhere':'Where', 'other':'Comment'}\n",
    "original_df.rename(columns=cols, inplace=True)\n",
    "original_df.Comment = original_df.Comment.str.strip().str.lower()\n",
    "new_cols = ['id_annotation', 'id_annotator', 'caption', 'url', 'True', 'Subjective', 'Action', 'Story', 'Meta', 'Irrelevant', 'Other', 'Comment', 'When', 'How', 'Where', 'Identification', 'source', 'cbBrokenImg']\n",
    "df_all = original_df[new_cols]\n",
    "df_gt = df_gt[new_cols[:-1]]\n",
    "categories = list(df_all.columns)\n",
    "print(df_all.shape, categories)"
   ]
  },
  {
   "cell_type": "code",
   "execution_count": 3,
   "metadata": {},
   "outputs": [],
   "source": [
    "df_pn = df_all[df_all.id_annotation >= 11651]\n",
    "df_pn = df_pn[df_pn.id_annotator.isin(['Kat', 'Ilana'])]\n",
    "df_pn = df_pn[df_pn.cbBrokenImg == 0]"
   ]
  },
  {
   "cell_type": "code",
   "execution_count": 4,
   "metadata": {},
   "outputs": [],
   "source": [
    "import spacy\n",
    "\n",
    "nlp = spacy.load(\"en_core_web_sm\")"
   ]
  },
  {
   "cell_type": "code",
   "execution_count": 5,
   "metadata": {},
   "outputs": [],
   "source": [
    "def get_pronoun_dist(df_t, cols):\n",
    "    PRONOUN_TAGS = ['DET', 'PRON']\n",
    "    PRONOUN_TAGS2 = ['PRP', 'PRP$', 'WP', 'WP$']\n",
    "    counter = {}\n",
    "    counter2 = {}\n",
    "    columns = df_t.columns[cols].to_list()\n",
    "    for col in columns:\n",
    "        counter[col] = 0\n",
    "        counter2[col] = 0\n",
    "    for index, row in df_t.iterrows():\n",
    "        text = row.caption\n",
    "        doc = nlp(text)\n",
    "        flag = False\n",
    "        flag2 = False\n",
    "        for token in doc:\n",
    "            if token.pos_ in PRONOUN_TAGS:\n",
    "                flag = True\n",
    "            if token.tag_ in PRONOUN_TAGS2:\n",
    "                flag2 = True\n",
    "        if flag:\n",
    "            for col in columns:\n",
    "                if row[col] == 1:\n",
    "                    counter[col] += 1\n",
    "        if flag2:\n",
    "            for col in columns:\n",
    "                if row[col] == 1:\n",
    "                    counter2[col] += 1\n",
    "    print('Stats that includes determiners (get by tags [\\'PRON\\', \\'DET\\'] from spaCy')\n",
    "    for col in columns:\n",
    "        print('{:12} {:8.2f}%'.format(col + ':', 100.0 * counter[col] / len(df_gt)))\n",
    "    print('\\nStats that doesn\\'t include determiners (get by pos tags [\\'PRP\\', \\'PRP$\\', \\'WP\\', \\'WP$\\'] from spaCy)')\n",
    "    for col in columns:\n",
    "        print('{:12} {:8.2f}%'.format(col + ':', 100.0 * counter2[col] / len(df_gt)))"
   ]
  },
  {
   "cell_type": "code",
   "execution_count": null,
   "metadata": {},
   "outputs": [],
   "source": [
    "cols = list(np.arange(4, 11)) + list(np.arange(12, 16))\n",
    "get_pronoun_dist(df_gt, cols)"
   ]
  },
  {
   "cell_type": "code",
   "execution_count": null,
   "metadata": {},
   "outputs": [],
   "source": [
    "get_pronoun_dist(df_pn, cols)"
   ]
  }
 ],
 "metadata": {
  "kernelspec": {
   "display_name": "Python 3",
   "language": "python",
   "name": "python3"
  },
  "language_info": {
   "codemirror_mode": {
    "name": "ipython",
    "version": 3
   },
   "file_extension": ".py",
   "mimetype": "text/x-python",
   "name": "python",
   "nbconvert_exporter": "python",
   "pygments_lexer": "ipython3",
   "version": "3.7.7"
  }
 },
 "nbformat": 4,
 "nbformat_minor": 4
}
